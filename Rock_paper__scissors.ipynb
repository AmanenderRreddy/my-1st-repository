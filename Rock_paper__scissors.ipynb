{
  "nbformat": 4,
  "nbformat_minor": 0,
  "metadata": {
    "colab": {
      "name": "Rock_paper_ scissors",
      "provenance": [],
      "authorship_tag": "ABX9TyN5te4/xgHREnzzPBaVagAv",
      "include_colab_link": true
    },
    "kernelspec": {
      "name": "python3",
      "display_name": "Python 3"
    }
  },
  "cells": [
    {
      "cell_type": "markdown",
      "metadata": {
        "id": "view-in-github",
        "colab_type": "text"
      },
      "source": [
        "<a href=\"https://colab.research.google.com/github/AmanenderRreddy/my-1st-repository/blob/master/Rock_paper__scissors.ipynb\" target=\"_parent\"><img src=\"https://colab.research.google.com/assets/colab-badge.svg\" alt=\"Open In Colab\"/></a>"
      ]
    },
    {
      "cell_type": "code",
      "metadata": {
        "id": "PlyYCrstZLy6",
        "colab_type": "code",
        "colab": {}
      },
      "source": [
        "import random"
      ],
      "execution_count": 0,
      "outputs": []
    },
    {
      "cell_type": "code",
      "metadata": {
        "id": "xCo2JDZmaUBY",
        "colab_type": "code",
        "outputId": "76cea6cf-8b0a-4ab1-cc02-db630f53d11c",
        "colab": {
          "base_uri": "https://localhost:8080/",
          "height": 301
        }
      },
      "source": [
        "count=0\n",
        "player1_points=0\n",
        "player2_points=0\n",
        "\n",
        "for i in range(5) :\n",
        "  while(count<3):\n",
        "    things=['rock','paper','scissors']\n",
        "    player1=random.choice(things)\n",
        "    player2=random.choice(things)\n",
        "    print('player1=',player1)\n",
        "    print('player2=',player2)\n",
        "    if(player1==player2):\n",
        "      print('match draw \"try again\"\\n')\n",
        "      count=count+1\n",
        "      break\n",
        "    elif(player1=='rock' and player2=='scissors'):\n",
        "      print('player1 won\\n')\n",
        "      player1_points=player1_points+1\n",
        "      count=count+1\n",
        "      break\n",
        "    elif(player1=='rock' and player2=='paper'):\n",
        "      print('player2 won\\n')\n",
        "      player2_points=player2_points+1\n",
        "      count=count+1\n",
        "      break\n",
        "    elif(player1=='scissors' and player2=='paper'):\n",
        "      print('player1 won\\n')\n",
        "      player1_points=player1_points+1\n",
        "      count=count+1\n",
        "      break\n",
        "    elif(player1=='scissors' and player2=='rock'):\n",
        "      print('player2 won\\n')\n",
        "      player2_points=player2_points+1\n",
        "      count=count+1\n",
        "      break\n",
        "    elif(player1=='paper' and player2=='rock'):\n",
        "      print('player1 won\\n')\n",
        "      player1_points=player1_points+1\n",
        "      count=count+1\n",
        "      break\n",
        "    elif(player1=='paper' and player2=='scissors'):\n",
        "      print('player2 won\\n')\n",
        "      player2_points=player2_points+1\n",
        "      count=count+1\n",
        "      break\n",
        "    else:\n",
        "      print('match draw \"try again\"\\n')\n",
        "      count=count+1\n",
        "      break\n",
        "print('player1_points=',player1_points)\n",
        "print('player2_points=',player2_points)\n",
        "if(player1_points>player2_points):\n",
        "  print('player1 won the match\\n')\n",
        "elif(player2_points>player1_points):\n",
        "  print('\\nplayer2 won the match\\n')\n",
        "else:\n",
        "  print('\\nmatch draw \"try again\"\\n')\n",
        "\n",
        "\n",
        "    "
      ],
      "execution_count": 0,
      "outputs": [
        {
          "output_type": "stream",
          "text": [
            "player1= paper\n",
            "player2= scissors\n",
            "player2 won\n",
            "\n",
            "player1= scissors\n",
            "player2= scissors\n",
            "match draw \"try again\"\n",
            "\n",
            "player1= paper\n",
            "player2= scissors\n",
            "player2 won\n",
            "\n",
            "player1_points= 0\n",
            "player2_points= 2\n",
            "\n",
            "player2 won the match\n",
            "\n"
          ],
          "name": "stdout"
        }
      ]
    },
    {
      "cell_type": "code",
      "metadata": {
        "id": "CohPzlwKamNd",
        "colab_type": "code",
        "colab": {}
      },
      "source": [
        "\n",
        "\n"
      ],
      "execution_count": 0,
      "outputs": []
    },
    {
      "cell_type": "code",
      "metadata": {
        "id": "h1IE8GyZa4nM",
        "colab_type": "code",
        "colab": {}
      },
      "source": [
        ""
      ],
      "execution_count": 0,
      "outputs": []
    }
  ]
}
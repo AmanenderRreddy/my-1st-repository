{
  "nbformat": 4,
  "nbformat_minor": 0,
  "metadata": {
    "colab": {
      "name": "class-4(python and numpy)",
      "provenance": [],
      "authorship_tag": "ABX9TyOW0y197wrZhiJMoFL+l0Tl",
      "include_colab_link": true
    },
    "kernelspec": {
      "name": "python3",
      "display_name": "Python 3"
    }
  },
  "cells": [
    {
      "cell_type": "markdown",
      "metadata": {
        "id": "view-in-github",
        "colab_type": "text"
      },
      "source": [
        "<a href=\"https://colab.research.google.com/github/AmanenderRreddy/my-1st-repository/blob/master/class_4(python_and_numpy).ipynb\" target=\"_parent\"><img src=\"https://colab.research.google.com/assets/colab-badge.svg\" alt=\"Open In Colab\"/></a>"
      ]
    },
    {
      "cell_type": "code",
      "metadata": {
        "id": "aUBg57fao4ew",
        "colab_type": "code",
        "outputId": "2bcee8e5-fdd1-4279-e500-a1c740b3e9bd",
        "colab": {
          "base_uri": "https://localhost:8080/",
          "height": 33
        }
      },
      "source": [
        "\n",
        " #data types\n",
        "a=1  #int\n",
        "a=1.22  #float\n",
        "a='hello' #string\n",
        "a=\"world\" #string\n",
        "a=True #boolean\n",
        "print(type(a))\n"
      ],
      "execution_count": 0,
      "outputs": [
        {
          "output_type": "stream",
          "text": [
            "<class 'bool'>\n"
          ],
          "name": "stdout"
        }
      ]
    },
    {
      "cell_type": "code",
      "metadata": {
        "id": "rtLDxhr-Whll",
        "colab_type": "code",
        "outputId": "5d7f900d-f514-4841-8808-8cba3a7e8b6a",
        "colab": {
          "base_uri": "https://localhost:8080/",
          "height": 33
        }
      },
      "source": [
        "a=1  #int\n",
        "b=1.22  #float\n",
        "c='hello' #string\n",
        "d=\"world\" #string\n",
        "e=\"\"\"hello\"\"\"\n",
        "f=True #boolean\n",
        "l=[a,b,c,d,e,f]\n",
        "\n",
        "print(l)"
      ],
      "execution_count": 0,
      "outputs": [
        {
          "output_type": "stream",
          "text": [
            "[1, 1.22, 'hello', 'world', 'hello', True]\n"
          ],
          "name": "stdout"
        }
      ]
    },
    {
      "cell_type": "code",
      "metadata": {
        "id": "1NRAZELaYZ13",
        "colab_type": "code",
        "outputId": "d5324053-0413-4c95-804c-82cf9a33fc5f",
        "colab": {
          "base_uri": "https://localhost:8080/",
          "height": 33
        }
      },
      "source": [
        "l=[i*i for i in range(10)]\n",
        "print(l)"
      ],
      "execution_count": 0,
      "outputs": [
        {
          "output_type": "stream",
          "text": [
            "[0, 1, 4, 9, 16, 25, 36, 49, 64, 81]\n"
          ],
          "name": "stdout"
        }
      ]
    },
    {
      "cell_type": "code",
      "metadata": {
        "id": "lLxNE_bkZHc2",
        "colab_type": "code",
        "outputId": "3b84e1a2-309f-4268-ea08-016add6064cb",
        "colab": {
          "base_uri": "https://localhost:8080/",
          "height": 33
        }
      },
      "source": [
        "l.append(100)\n",
        "print(l)"
      ],
      "execution_count": 0,
      "outputs": [
        {
          "output_type": "stream",
          "text": [
            "[0, 1, 4, 9, 16, 25, 36, 49, 64, 81, 100]\n"
          ],
          "name": "stdout"
        }
      ]
    },
    {
      "cell_type": "code",
      "metadata": {
        "id": "NwPV0fdxZf4H",
        "colab_type": "code",
        "outputId": "b4605424-5534-46a5-ef31-b9900617a326",
        "colab": {
          "base_uri": "https://localhost:8080/",
          "height": 33
        }
      },
      "source": [
        "l.remove(1)\n",
        "print(l)"
      ],
      "execution_count": 0,
      "outputs": [
        {
          "output_type": "stream",
          "text": [
            "[0, 4, 9, 16, 25, 36, 49, 64, 81]\n"
          ],
          "name": "stdout"
        }
      ]
    },
    {
      "cell_type": "code",
      "metadata": {
        "id": "jhfrcoHrZ2X7",
        "colab_type": "code",
        "outputId": "fbfd34c1-dcca-4c43-f14e-c92375023d98",
        "colab": {
          "base_uri": "https://localhost:8080/",
          "height": 50
        }
      },
      "source": [
        "even=[]\n",
        "odd=[]\n",
        "for i in range(10):\n",
        "    if(i%2==0):\n",
        "        even.append(i)\n",
        "    else:\n",
        "        odd.append(i)\n",
        "print(even)\n",
        "print(odd)"
      ],
      "execution_count": 0,
      "outputs": [
        {
          "output_type": "stream",
          "text": [
            "[0, 2, 4, 6, 8]\n",
            "[1, 3, 5, 7, 9]\n"
          ],
          "name": "stdout"
        }
      ]
    },
    {
      "cell_type": "code",
      "metadata": {
        "id": "vsdg7WI_bnvw",
        "colab_type": "code",
        "outputId": "8a8cbce0-be26-4caf-d82a-6291f152ca19",
        "colab": {
          "base_uri": "https://localhost:8080/",
          "height": 33
        }
      },
      "source": [
        "numbers=even+odd\n",
        "print(numbers)"
      ],
      "execution_count": 0,
      "outputs": [
        {
          "output_type": "stream",
          "text": [
            "[0, 2, 4, 6, 8, 1, 3, 5, 7, 9]\n"
          ],
          "name": "stdout"
        }
      ]
    },
    {
      "cell_type": "code",
      "metadata": {
        "id": "VvraRW9gb_Xm",
        "colab_type": "code",
        "outputId": "9a3d685e-860c-47f1-c8cc-cfe27d25a1a9",
        "colab": {
          "base_uri": "https://localhost:8080/",
          "height": 33
        }
      },
      "source": [
        "#dictionaries\n",
        "heights={'a':100,'b':122}\n",
        "heights['a']"
      ],
      "execution_count": 0,
      "outputs": [
        {
          "output_type": "execute_result",
          "data": {
            "text/plain": [
              "100"
            ]
          },
          "metadata": {
            "tags": []
          },
          "execution_count": 23
        }
      ]
    },
    {
      "cell_type": "code",
      "metadata": {
        "id": "Wn5WuXCYfjoc",
        "colab_type": "code",
        "colab": {}
      },
      "source": [
        "def complecated_sum(*nums):\n",
        "    total =0\n",
        "    for num in nums:\n",
        "        total +=num\n",
        "    return total"
      ],
      "execution_count": 0,
      "outputs": []
    },
    {
      "cell_type": "code",
      "metadata": {
        "id": "7bIGniWImFKA",
        "colab_type": "code",
        "outputId": "90fe44f5-4886-4a7d-9a85-d3524884af89",
        "colab": {
          "base_uri": "https://localhost:8080/",
          "height": 33
        }
      },
      "source": [
        "print(complecated_sum(1,2,3,4,5,6,7,8,9,10))"
      ],
      "execution_count": 0,
      "outputs": [
        {
          "output_type": "stream",
          "text": [
            "55\n"
          ],
          "name": "stdout"
        }
      ]
    },
    {
      "cell_type": "code",
      "metadata": {
        "id": "UFSQtVFnmQNR",
        "colab_type": "code",
        "outputId": "1e3e3a11-82fa-41d7-efdf-809be5c13701",
        "colab": {
          "base_uri": "https://localhost:8080/",
          "height": 50
        }
      },
      "source": [
        "def something(a,b,c=1):\n",
        "\n",
        "    print(a+b+c)\n",
        "\n",
        "something(1,2)\n",
        "something(1,2,3)"
      ],
      "execution_count": 0,
      "outputs": [
        {
          "output_type": "stream",
          "text": [
            "4\n",
            "6\n"
          ],
          "name": "stdout"
        }
      ]
    },
    {
      "cell_type": "code",
      "metadata": {
        "id": "14ZBFPiEmsyK",
        "colab_type": "code",
        "outputId": "d93242f2-d278-4adf-a5e6-4ec0c3447e96",
        "colab": {
          "base_uri": "https://localhost:8080/",
          "height": 33
        }
      },
      "source": [
        "#dot product of matrix and vector in \n",
        "\n",
        "n=[\n",
        "[2,3,5,4],                              \n",
        "[3,5,2,1],\n",
        "[7,6,2,1],\n",
        "[3,2,4,5],\n",
        "[2,2,2,2]\n",
        "]\n",
        "km=[3,5,2,3]"
      ],
      "execution_count": 0,
      "outputs": [
        {
          "output_type": "stream",
          "text": [
            "[43 41 58 42 26]\n"
          ],
          "name": "stdout"
        }
      ]
    },
    {
      "cell_type": "code",
      "metadata": {
        "id": "mV4RCCyg2dqH",
        "colab_type": "code",
        "outputId": "fda286cd-aba2-47e1-dcb0-c9a15fe7eb00",
        "colab": {
          "base_uri": "https://localhost:8080/",
          "height": 33
        }
      },
      "source": [
        "total=[]\n",
        "for i in range (len(n)):\n",
        "    sum=0\n",
        "    for j in range (len(km)):\n",
        "        sum+=n[i][j]*km[j]\n",
        "    total.append(sum)\n",
        "print(total)\n",
        "\n"
      ],
      "execution_count": 0,
      "outputs": [
        {
          "output_type": "stream",
          "text": [
            "[43, 41, 58, 42, 26]\n"
          ],
          "name": "stdout"
        }
      ]
    },
    {
      "cell_type": "code",
      "metadata": {
        "id": "BU-InlF14v-E",
        "colab_type": "code",
        "outputId": "7e22078f-8f12-4f21-b7eb-68a86d55ae43",
        "colab": {
          "base_uri": "https://localhost:8080/",
          "height": 33
        }
      },
      "source": [
        "#dot product of matrix and vector in arrays\n",
        "import numpy as np\n",
        "\n",
        "n=[\n",
        "[2,3,5,4],\n",
        "[3,5,2,1],\n",
        "[7,6,2,1],\n",
        "[3,2,4,5],\n",
        "[2,2,2,2]\n",
        "]\n",
        "n=np.array(n)\n",
        "km=[3,5,2,3]\n",
        "km=np.array(km)\n",
        "print(n.dot(km))\n"
      ],
      "execution_count": 0,
      "outputs": [
        {
          "output_type": "stream",
          "text": [
            "[43 41 58 42 26]\n"
          ],
          "name": "stdout"
        }
      ]
    },
    {
      "cell_type": "code",
      "metadata": {
        "id": "wRyjzt329GnV",
        "colab_type": "code",
        "colab": {}
      },
      "source": [
        ""
      ],
      "execution_count": 0,
      "outputs": []
    }
  ]
}